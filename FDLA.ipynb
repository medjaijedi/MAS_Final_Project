{
 "cells": [
  {
   "cell_type": "code",
   "execution_count": 21,
   "metadata": {},
   "outputs": [],
   "source": [
    "import numpy as np\n",
    "import cvxpy as cp\n",
    "import matplotlib.pyplot as plt"
   ]
  },
  {
   "cell_type": "markdown",
   "metadata": {},
   "source": [
    "###Implementation of the paper \"Fast linear iterations for distributed averaging\" by Xiao and Boyd."
   ]
  },
  {
   "cell_type": "code",
   "execution_count": 22,
   "metadata": {},
   "outputs": [
    {
     "name": "stdout",
     "output_type": "stream",
     "text": [
      "[[0.14285714 0.14285714 0.14285714 0.14285714 0.14285714 0.14285714\n",
      "  0.14285714]\n",
      " [0.14285714 0.14285714 0.14285714 0.14285714 0.14285714 0.14285714\n",
      "  0.14285714]\n",
      " [0.14285714 0.14285714 0.14285714 0.14285714 0.14285714 0.14285714\n",
      "  0.14285714]\n",
      " [0.14285714 0.14285714 0.14285714 0.14285714 0.14285714 0.14285714\n",
      "  0.14285714]\n",
      " [0.14285714 0.14285714 0.14285714 0.14285714 0.14285714 0.14285714\n",
      "  0.14285714]\n",
      " [0.14285714 0.14285714 0.14285714 0.14285714 0.14285714 0.14285714\n",
      "  0.14285714]\n",
      " [0.14285714 0.14285714 0.14285714 0.14285714 0.14285714 0.14285714\n",
      "  0.14285714]]\n"
     ]
    }
   ],
   "source": [
    "#what is vec(1)*vec(1)^T/n? Say n = 10.\n",
    "vec_ones = np.ones((7,1))\n",
    "vec_ones_matrix = vec_ones @ vec_ones.T/7\n",
    "print(vec_ones_matrix)"
   ]
  },
  {
   "cell_type": "markdown",
   "metadata": {},
   "source": [
    "The network we are considering for this is:"
   ]
  },
  {
   "cell_type": "markdown",
   "metadata": {},
   "source": [
    "<img src=\"network_prac.jpg\" alt=\"drawing\" width=\"400\"/>"
   ]
  },
  {
   "cell_type": "code",
   "execution_count": 15,
   "metadata": {},
   "outputs": [],
   "source": [
    "\"\"\"For this network, the number of nodes is n = 7, so the matrix W has to converge to vec(1)*vec(1)^T/7 for the network \n",
    "to converge to average the values of the nodes.\"\"\"\n",
    "\n",
    "conv_matrix = vec_ones @ vec_ones.T/7"
   ]
  },
  {
   "cell_type": "code",
   "execution_count": 20,
   "metadata": {},
   "outputs": [
    {
     "name": "stdout",
     "output_type": "stream",
     "text": [
      "[[2.00000000e-01 2.00000000e-01 6.43725445e-11 2.00000000e-01\n",
      "  2.00000000e-01 6.43725195e-11 2.00000000e-01]\n",
      " [1.33333333e-01 1.33333333e-01 1.66666667e-01 1.33333333e-01\n",
      "  1.33333333e-01 1.66666667e-01 1.33333333e-01]\n",
      " [1.33333333e-01 1.33333333e-01 1.66666667e-01 1.33333333e-01\n",
      "  1.33333333e-01 1.66666667e-01 1.33333333e-01]\n",
      " [1.33333333e-01 1.33333333e-01 1.66666667e-01 1.33333333e-01\n",
      "  1.33333333e-01 1.66666667e-01 1.33333333e-01]\n",
      " [1.33333333e-01 1.33333333e-01 1.66666667e-01 1.33333333e-01\n",
      "  1.33333333e-01 1.66666667e-01 1.33333333e-01]\n",
      " [1.33333333e-01 1.33333333e-01 1.66666667e-01 1.33333333e-01\n",
      "  1.33333333e-01 1.66666667e-01 1.33333333e-01]\n",
      " [1.33333333e-01 1.33333333e-01 1.66666667e-01 1.33333333e-01\n",
      "  1.33333333e-01 1.66666667e-01 1.33333333e-01]]\n"
     ]
    }
   ],
   "source": [
    "#solving a simple optimization problem\n",
    "W = cp.Variable((7,7))\n",
    "obj = cp.Minimize(cp.norm2(W - conv_matrix))\n",
    "cons = [np.ones((1,7)) @ W == np.ones((1,7)), W @ np.ones((7,1)) == np.ones((7,1)), W[0,2] == 0, W[0,5] == 0]\n",
    "prob = cp.Problem(obj, cons)\n",
    "prob.solve()\n",
    "print(W.value)"
   ]
  },
  {
   "cell_type": "code",
   "execution_count": null,
   "metadata": {},
   "outputs": [],
   "source": []
  }
 ],
 "metadata": {
  "kernelspec": {
   "display_name": "Python 3",
   "language": "python",
   "name": "python3"
  },
  "language_info": {
   "codemirror_mode": {
    "name": "ipython",
    "version": 3
   },
   "file_extension": ".py",
   "mimetype": "text/x-python",
   "name": "python",
   "nbconvert_exporter": "python",
   "pygments_lexer": "ipython3",
   "version": "3.10.12"
  }
 },
 "nbformat": 4,
 "nbformat_minor": 2
}
