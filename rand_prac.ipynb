{
 "cells": [
  {
   "cell_type": "code",
   "execution_count": 10,
   "metadata": {},
   "outputs": [
    {
     "name": "stdout",
     "output_type": "stream",
     "text": [
      "string length is:  9\n",
      "hmmmm\n",
      "Bruh you can't mutate a string\n"
     ]
    }
   ],
   "source": [
    "my_str = 'immutable'\n",
    "print(\"string length is: \",len(my_str))\n",
    "print('h' + my_str[1:3] * 2)\n",
    "#Let's test the immutability of strings in defiance of the python gods:\n",
    "#Look at me here doing stuff CS undergrads learn in their first sem probably. I mean ig I know all this but still sed life\n",
    "try:\n",
    "    my_str[2] = 'r'\n",
    "    print(my_str)\n",
    "except TypeError:\n",
    "    print(\"Bruh you can't mutate a string\")\n"
   ]
  },
  {
   "cell_type": "code",
   "execution_count": 11,
   "metadata": {},
   "outputs": [
    {
     "name": "stdout",
     "output_type": "stream",
     "text": [
      "3\n"
     ]
    }
   ],
   "source": [
    "my_list = ['str1','str2','str3']\n",
    "print(len(my_list))"
   ]
  },
  {
   "cell_type": "code",
   "execution_count": null,
   "metadata": {},
   "outputs": [],
   "source": []
  },
  {
   "cell_type": "code",
   "execution_count": null,
   "metadata": {},
   "outputs": [],
   "source": []
  }
 ],
 "metadata": {
  "kernelspec": {
   "display_name": "Python 3",
   "language": "python",
   "name": "python3"
  },
  "language_info": {
   "codemirror_mode": {
    "name": "ipython",
    "version": 3
   },
   "file_extension": ".py",
   "mimetype": "text/x-python",
   "name": "python",
   "nbconvert_exporter": "python",
   "pygments_lexer": "ipython3",
   "version": "3.10.12"
  }
 },
 "nbformat": 4,
 "nbformat_minor": 2
}
