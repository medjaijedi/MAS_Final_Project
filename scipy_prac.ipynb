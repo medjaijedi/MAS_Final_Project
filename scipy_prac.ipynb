{
 "cells": [
  {
   "cell_type": "code",
   "execution_count": 1,
   "metadata": {},
   "outputs": [],
   "source": [
    "import numpy as np\n",
    "from scipy import integrate,linalg,optimize\n",
    "import matplotlib.pyplot as plt"
   ]
  },
  {
   "cell_type": "code",
   "execution_count": 3,
   "metadata": {},
   "outputs": [],
   "source": [
    "class statespace:\n",
    "    def __init__(self, A, B, C, D):\n",
    "        self.A = A\n",
    "        self.B = B\n",
    "        self.C = C\n",
    "        self.D = D\n",
    "\n",
    "    def xdot(self, x, u):\n",
    "        return self.A @ x + self.B @ u\n",
    "\n",
    "    def output(self, x, u):\n",
    "        return self.C @ x + self.D @ u\n",
    "    \n",
    "    def xintegrate(self, x, u, dt):\n",
    "        return integrate.solve_ivp(self.xdot, [0, dt], x0)"
   ]
  },
  {
   "cell_type": "code",
   "execution_count": null,
   "metadata": {},
   "outputs": [],
   "source": [
    "sys1 = statespace(np.array([[0, 1], [0, 0]]), np.array([[0], [1]]), np.array([[1, 0]]), np.array([[0]]))\n",
    "\n",
    "sys1.xdot(np.array([0, 0]), 1)"
   ]
  },
  {
   "cell_type": "code",
   "execution_count": null,
   "metadata": {},
   "outputs": [],
   "source": [
    "def xdot(x):\n",
    "    return A@x\n",
    "\n",
    "xint  = integrate.solve_ivp(xdot,)"
   ]
  }
 ],
 "metadata": {
  "kernelspec": {
   "display_name": "Python 3",
   "language": "python",
   "name": "python3"
  },
  "language_info": {
   "codemirror_mode": {
    "name": "ipython",
    "version": 3
   },
   "file_extension": ".py",
   "mimetype": "text/x-python",
   "name": "python",
   "nbconvert_exporter": "python",
   "pygments_lexer": "ipython3",
   "version": "3.10.13"
  }
 },
 "nbformat": 4,
 "nbformat_minor": 2
}
