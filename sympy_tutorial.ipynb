{
 "cells": [
  {
   "cell_type": "code",
   "execution_count": 11,
   "metadata": {},
   "outputs": [
    {
     "data": {
      "text/latex": [
       "$\\displaystyle \\sqrt{3}$"
      ],
      "text/plain": [
       "sqrt(3)"
      ]
     },
     "execution_count": 11,
     "metadata": {},
     "output_type": "execute_result"
    }
   ],
   "source": [
    "from sympy import *\n",
    "import numpy as np\n",
    "sympy.simplify(sympy.sqrt(3))"
   ]
  },
  {
   "cell_type": "code",
   "execution_count": 8,
   "metadata": {},
   "outputs": [
    {
     "name": "stdout",
     "output_type": "stream",
     "text": [
      "x + 2*y\n"
     ]
    },
    {
     "data": {
      "text/latex": [
       "$\\displaystyle 5$"
      ],
      "text/plain": [
       "5"
      ]
     },
     "execution_count": 8,
     "metadata": {},
     "output_type": "execute_result"
    }
   ],
   "source": [
    "from sympy import symbols\n",
    "x,y = symbols('x y')\n",
    "expr = x + 2*y\n",
    "print(expr)\n",
    "expr.subs({x:1, y:2})"
   ]
  },
  {
   "cell_type": "code",
   "execution_count": 12,
   "metadata": {},
   "outputs": [
    {
     "name": "stdout",
     "output_type": "stream",
     "text": [
      "[[0.5        0.5        0.         0.        ]\n",
      " [0.25       0.25       0.25       0.25      ]\n",
      " [0.         0.33333333 0.33333333 0.33333333]\n",
      " [0.         0.33333333 0.33333333 0.33333333]]\n"
     ]
    },
    {
     "ename": "NameError",
     "evalue": "name 'matrices' is not defined",
     "output_type": "error",
     "traceback": [
      "\u001b[0;31m---------------------------------------------------------------------------\u001b[0m",
      "\u001b[0;31mNameError\u001b[0m                                 Traceback (most recent call last)",
      "Cell \u001b[0;32mIn[12], line 5\u001b[0m\n\u001b[1;32m      3\u001b[0m \u001b[38;5;66;03m#Asym = sympy.Symbol('A')\u001b[39;00m\n\u001b[1;32m      4\u001b[0m Asym \u001b[38;5;241m=\u001b[39m sympy\u001b[38;5;241m.\u001b[39mMatrix(A)\n\u001b[0;32m----> 5\u001b[0m \u001b[43mmatrices\u001b[49m\u001b[38;5;241m.\u001b[39mnormalforms\u001b[38;5;241m.\u001b[39mjordan_jor(A)\n",
      "\u001b[0;31mNameError\u001b[0m: name 'matrices' is not defined"
     ]
    }
   ],
   "source": [
    "A = np.array([[1/2,1/2,0,0],[1/4,1/4,1/4,1/4],[0,1/3,1/3,1/3],[0,1/3,1/3,1/3]])\n",
    "print(A)\n",
    "#Asym = sympy.Symbol('A')\n",
    "Asym = sympy.Matrix(A)\n"
   ]
  }
 ],
 "metadata": {
  "kernelspec": {
   "display_name": "Python 3",
   "language": "python",
   "name": "python3"
  },
  "language_info": {
   "codemirror_mode": {
    "name": "ipython",
    "version": 3
   },
   "file_extension": ".py",
   "mimetype": "text/x-python",
   "name": "python",
   "nbconvert_exporter": "python",
   "pygments_lexer": "ipython3",
   "version": "3.10.12"
  }
 },
 "nbformat": 4,
 "nbformat_minor": 2
}
